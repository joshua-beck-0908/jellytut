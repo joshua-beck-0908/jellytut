{
 "cells": [
  {
   "cell_type": "markdown",
   "metadata": {},
   "source": [
    "I'm not really sure how this'll turn out.\n",
    "\n",
    "But I'm going to try a *really* esoteric programming language.\n",
    "\n",
    "This is one of those... golfing languages?\n",
    "\n",
    "Well that's what my scheduler program has decided for me.\n",
    "So I'll do my best.\n",
    "\n"
   ]
  },
  {
   "cell_type": "markdown",
   "metadata": {},
   "source": [
    "So no hope of a Jupyter kernel for this one. \n",
    "\n",
    "But I've install the language intepreter from the creator's GitHub.\n",
    "https://github.com/DennisMitchell/jellylanguage\n",
    "\n",
    "With the following:\n",
    "```bash\n",
    "git clone -q https://github.com/DennisMitchell/jellylanguage.git\n",
    "cd jellylanguage\n",
    "pip3 install --upgrade .\n",
    "```\n",
    "\n",
    "The install went flawlessly.\n",
    "\n",
    "I'll follow his tutorial at: \n",
    "https://github.com/DennisMitchell/jellylanguage/wiki/Tutorial"
   ]
  }
 ],
 "metadata": {
  "language_info": {
   "name": "python"
  }
 },
 "nbformat": 4,
 "nbformat_minor": 2
}
