{
 "cells": [
  {
   "cell_type": "markdown",
   "metadata": {
    "vscode": {
     "languageId": "plaintext"
    }
   },
   "source": [
    "<style> p { max-width: 500px; } </style>\n",
    "\n",
    "# [Tacit programming](https://github.com/DennisMitchell/jellylanguage/wiki/Tutorial#1tacit-programming)\n",
    "\n",
    ">Jelly is a tacit programming language. This means you define links (functions) by composing existing links into a chain, without explicitly talking about the arguments involved. Which way the arguments “flow” through this composition is defined by the pattern the links are arranged in.\n",
    "\n",
    "Tacit huh? I'm not sure if I've heard a language described like that.\n",
    "\n",
    "So they all have to be linked together somehow? \n",
    "I'll just have to lookout for the examples.\n",
    "\n",
    "So there's your standard programming theory with:\n",
    " - Nilads (no arguments)\n",
    " - Monads (one argument)\n",
    " - Dyads (two arguments)\n",
    "\n",
    "I seems they need to introduce there due to the atypical function format.\n",
    "\n",
    "No mention of triads and polyads. \n",
    "\n",
    "Programs are varadic by default, the number of lines must be defined by the caller.\n",
    "\n",
    "The example of `+H` is given. \n",
    "\n",
    "It's a 2,1-chain. \n",
    "\n",
    "`+` (add) takes two arguments.\n",
    "`H` (half) takes one.\n",
    "\n",
    "So combined with an input they add half of the input to itself.\n"
   ]
  },
  {
   "cell_type": "code",
   "execution_count": 5,
   "metadata": {},
   "outputs": [
    {
     "name": "stdout",
     "output_type": "stream",
     "text": [
      "['6']\n",
      "['3.75']\n"
     ]
    }
   ],
   "source": [
    "# This returns six after adding half the argument to itself.\n",
    "x = !jelly e '+H' 4\n",
    "print(x)\n",
    "\n",
    "x = ! jelly e '+H' 2.5\n",
    "print(x)"
   ]
  },
  {
   "cell_type": "markdown",
   "metadata": {},
   "source": [
    "Looks good! I've put this into a program in '00_addhalf'"
   ]
  },
  {
   "cell_type": "code",
   "execution_count": null,
   "metadata": {},
   "outputs": [
    {
     "name": "stdout",
     "output_type": "stream",
     "text": [
      "/home/joshua/proj/jellytut\n",
      "7.5"
     ]
    }
   ],
   "source": [
    "!jelly -f src/00_addhalf.jel 5"
   ]
  }
 ],
 "metadata": {
  "kernelspec": {
   "display_name": ".venv",
   "language": "python",
   "name": "python3"
  },
  "language_info": {
   "codemirror_mode": {
    "name": "ipython",
    "version": 3
   },
   "file_extension": ".py",
   "mimetype": "text/x-python",
   "name": "python",
   "nbconvert_exporter": "python",
   "pygments_lexer": "ipython3",
   "version": "3.11.11"
  }
 },
 "nbformat": 4,
 "nbformat_minor": 2
}
