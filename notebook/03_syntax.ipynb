{
 "cells": [
  {
   "cell_type": "markdown",
   "metadata": {},
   "source": [
    "<style> p { max-width: 500px; } </style>\n",
    "\n",
    "# [Syntax](https://github.com/DennisMitchell/jellylanguage/wiki/Tutorial#3syntax)\n",
    "\n",
    "There's a basic type system.\n",
    " * Numbers\n",
    "    - int\n",
    "    - float\n",
    "    - complex\n",
    " * Characters\n",
    " * Lists\n",
    "    - A string is a list of characters.\n",
    "\n",
    "\n",
    "(still trying to figure out float and string formatting, the number of special symbols is messing with me as GitHub or the browser is changing them)"
   ]
  }
 ],
 "metadata": {
  "kernelspec": {
   "display_name": ".venv",
   "language": "python",
   "name": "python3"
  },
  "language_info": {
   "codemirror_mode": {
    "name": "ipython",
    "version": 3
   },
   "file_extension": ".py",
   "mimetype": "text/x-python",
   "name": "python",
   "nbconvert_exporter": "python",
   "pygments_lexer": "ipython3",
   "version": "3.12.3"
  }
 },
 "nbformat": 4,
 "nbformat_minor": 2
}
