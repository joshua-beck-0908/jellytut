{
 "cells": [
  {
   "cell_type": "markdown",
   "metadata": {},
   "source": [
    "<style> p { max-width: 500px; } </style>\n",
    "\n",
    "# [Syntax](https://github.com/DennisMitchell/jellylanguage/wiki/Tutorial#3syntax)\n",
    "\n",
    "There's a basic type system.\n",
    " * Numbers\n",
    "    - int\n",
    "    - float\n",
    "    - complex\n",
    " * Characters\n",
    " * Lists\n",
    "    - A string is a list of characters.\n",
    "\n",
    "Because the seperators between numbers and power or imaginary parts are... interesting, I'll create a program to try it out.\n",
    "\n",
    "I created a new [codepage file](../codepage.txt) with a code of the whole layout of their symbol map.\n",
    "\n",
    "Not sure how I can turn this into a custom code page.\n",
    "\n",
    "Here a program for adding Pi, saved as [program #2](../src/02_add_pi.jel).\n",
    "\n",
    "```jelly\n",
    "+3.14159265\n",
    "```\n",
    "\n"
   ]
  },
  {
   "cell_type": "code",
   "execution_count": 4,
   "metadata": {},
   "outputs": [
    {
     "name": "stdout",
     "output_type": "stream",
     "text": [
      "4.14159265"
     ]
    }
   ],
   "source": [
    "!jelly -fu src/02_add_pi.jel 1\n"
   ]
  },
  {
   "cell_type": "code",
   "execution_count": 5,
   "metadata": {},
   "outputs": [
    {
     "name": "stdout",
     "output_type": "stream",
     "text": [
      "2300.0(5400+30000j)"
     ]
    }
   ],
   "source": [
    "# Character 0x1A (ȷ) can be used to add an exponent.\n",
    "\n",
    "!jelly eu '2.3ȷ3'\n",
    "\n",
    "# The ı symbol (0x19) can be used to add an imaginary part.\n",
    "!jelly eu '5.4ȷ3ı3ȷ4'"
   ]
  },
  {
   "cell_type": "markdown",
   "metadata": {},
   "source": [
    "<style> * { max-width: 500px; } </style>\n",
    "\n",
    "I created [program #3](../src/03_add_weird_complex.jel) with just the following line:\n",
    "```jelly\n",
    "+3.1ȷ2ı9.2ȷ3\n",
    "```\n",
    "\n",
    "A bit of a demo in using the full number system.\n",
    "\n"
   ]
  },
  {
   "cell_type": "code",
   "execution_count": 6,
   "metadata": {},
   "outputs": [
    {
     "name": "stdout",
     "output_type": "stream",
     "text": [
      "(314.2+9200j)"
     ]
    }
   ],
   "source": [
    "!jelly fu src/03_add_weird_complex.jel 4.2"
   ]
  },
  {
   "cell_type": "markdown",
   "metadata": {},
   "source": [
    "<style> * { max-width: 500px; } </style>\n",
    "\n",
    "Looks good! \n",
    "\n",
    "To quickly insert whatever magic symbols were required, I put together a quick program that shows a clickable grid. All Jelly symbols are in the grid and you can click on any to insert them into the current program.\n",
    "\n",
    "Just a quick AI gen as the base, then some tweaking to customize it.\n",
    "\n",
    "Works pretty well!\n",
    "\n",
    "It's currently using the clipboard to do the copy/insert so hopefully that's not too annoying.\n",
    "\n",
    "Maybe I'll get it to accept some it accept some two letter combos.\n",
    "\n",
    "![Tilegrid program screenshot](data/000_tilegrid.png)"
   ]
  }
 ],
 "metadata": {
  "kernelspec": {
   "display_name": ".venv",
   "language": "python",
   "name": "python3"
  },
  "language_info": {
   "codemirror_mode": {
    "name": "ipython",
    "version": 3
   },
   "file_extension": ".py",
   "mimetype": "text/x-python",
   "name": "python",
   "nbconvert_exporter": "python",
   "pygments_lexer": "ipython3",
   "version": "3.12.3"
  }
 },
 "nbformat": 4,
 "nbformat_minor": 2
}
