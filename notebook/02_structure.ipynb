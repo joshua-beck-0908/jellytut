{
 "cells": [
  {
   "cell_type": "markdown",
   "metadata": {
    "vscode": {
     "languageId": "plaintext"
    }
   },
   "source": [
    "<style> p { max-width: 500px; } </style>\n",
    "# [Program structure](https://github.com/DennisMitchell/jellylanguage/wiki/Tutorial#2program-structure)\n",
    "\n",
    "Every line is a *link definition* (essential a function).\n",
    "\n",
    "The bottom line is the main function.\n",
    "\n",
    "They give this example program: \n",
    "```jelly\n",
    "+\n",
    "ç²\n",
    "```\n",
    "\n",
    "Oh boy.\n",
    "\n",
    "So the `+` is dyadic. It adds two arguments together. Having this on a line by itself is equivalent to the function `x(a, b): a + b`.\n",
    "\n",
    "The `ç` by itself means to send two arguments to the function above.\n",
    "\n",
    "The `²` means to square the result.\n",
    "\n",
    "So the whole this is equivalent to: \n",
    "```\n",
    "x(a, b): a + b\n",
    "main(a, b): x(a, b)^2\n",
    "```\n",
    "\n",
    "All this with only three characters (or four including the newline).\n"
   ]
  },
  {
   "cell_type": "code",
   "execution_count": 1,
   "metadata": {},
   "outputs": [
    {
     "name": "stdout",
     "output_type": "stream",
     "text": [
      "49"
     ]
    }
   ],
   "source": [
    "# This gives 49 --- (3+4)^2 = 49\n",
    "# I had to add the `u` flag to indicate a unicode file.\n",
    "# Otherwise Jelly interprets the UTF-8 BOM as a command.\n",
    "# The issues of intrepreting all possible values.\n",
    "! jelly -fu src/01_add_and_square.jel 3 4\n"
   ]
  },
  {
   "cell_type": "markdown",
   "metadata": {},
   "source": [
    "<style> p { max-width: 500px; } </style>\n",
    "It definitely starting to come together. \n",
    "\n",
    "I can tell it's going to need a lot of help from the compose key to type.\n",
    "\n",
    "All I need now is some common operators and a lookup table!\n"
   ]
  }
 ],
 "metadata": {
  "kernelspec": {
   "display_name": ".venv",
   "language": "python",
   "name": "python3"
  },
  "language_info": {
   "codemirror_mode": {
    "name": "ipython",
    "version": 3
   },
   "file_extension": ".py",
   "mimetype": "text/x-python",
   "name": "python",
   "nbconvert_exporter": "python",
   "pygments_lexer": "ipython3",
   "version": "3.12.3"
  }
 },
 "nbformat": 4,
 "nbformat_minor": 2
}
